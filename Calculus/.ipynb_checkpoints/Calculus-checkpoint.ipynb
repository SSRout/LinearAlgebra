{
 "cells": [
  {
   "cell_type": "markdown",
   "metadata": {},
   "source": [
    "# Calculus"
   ]
  },
  {
   "cell_type": "markdown",
   "metadata": {},
   "source": [
    "## Derivative"
   ]
  },
  {
   "cell_type": "markdown",
   "metadata": {},
   "source": [
    "A derivative can be defined in two ways:<br/>\n",
    "1.Instantaneous rate of change (Physics)<br/>\n",
    "2.Slope of a line at a specific point (Geometry)<br/>"
   ]
  },
  {
   "cell_type": "code",
   "execution_count": 10,
   "metadata": {},
   "outputs": [
    {
     "data": {
      "text/html": [
       "<iframe width=\"600\" height=\"315\" src=\"https://www.youtube.com/embed/S0_qX4VJhMQ?rel=0&amp;controls=0&amp;showinfo=0\" frameborder=\"0\" allowfullscreen></iframe>"
      ],
      "text/plain": [
       "<IPython.core.display.HTML object>"
      ]
     },
     "execution_count": 10,
     "metadata": {},
     "output_type": "execute_result"
    }
   ],
   "source": [
    "from IPython.display import HTML\n",
    "HTML('<iframe width=\"600\" height=\"315\" src=\"https://www.youtube.com/embed/S0_qX4VJhMQ?rel=0&amp;controls=0&amp;showinfo=0\" frameborder=\"0\" allowfullscreen></iframe>')\n"
   ]
  },
  {
   "cell_type": "code",
   "execution_count": 11,
   "metadata": {},
   "outputs": [
    {
     "data": {
      "text/plain": [
       "(4.0001000000078335, 4)"
      ]
     },
     "execution_count": 11,
     "metadata": {},
     "output_type": "execute_result"
    }
   ],
   "source": [
    "def get_derivative(func, x):\n",
    "    \"\"\"Compute the derivative of `func` at the location `x`.\"\"\"\n",
    "    h = 0.0001  \n",
    "    v=(func(x+h) - func(x)) / h         # step size\n",
    "    return v                            # rise-over-run\n",
    "       \n",
    "def f(x): return x**2                   # some test function f(x)=x^2\n",
    "x = 2   \n",
    "computed = get_derivative(f, x)         # the location of interest\n",
    "actual = 2*x\n",
    "\n",
    "computed, actual   # = 4.0001, 4        # pretty close if you ask me..."
   ]
  },
  {
   "cell_type": "markdown",
   "metadata": {},
   "source": [
    "## Why Claculus"
   ]
  },
  {
   "cell_type": "markdown",
   "metadata": {},
   "source": [
    "You might be wondering why calculus is required for ML,Machine learning uses derivatives in optimization problems. Optimization algorithms like gradient descent use derivatives to decide whether to increase or decrease weights in order to maximize or minimize some objective like accuracy and error function."
   ]
  },
  {
   "cell_type": "markdown",
   "metadata": {},
   "source": [
    "## Integrals"
   ]
  },
  {
   "cell_type": "markdown",
   "metadata": {},
   "source": [
    "The integral of f(x) corresponds to the computation of the area under the graph of f(x). The area under f(x) between the points x=a and x=b is denoted as follows:"
   ]
  },
  {
   "cell_type": "markdown",
   "metadata": {},
   "source": [
    "![title](../Images/Integral.PNG)"
   ]
  },
  {
   "cell_type": "code",
   "execution_count": 17,
   "metadata": {},
   "outputs": [
    {
     "data": {
      "text/plain": [
       "(8.666266670004893, 8.666666666666666)"
      ]
     },
     "execution_count": 17,
     "metadata": {},
     "output_type": "execute_result"
    }
   ],
   "source": [
    "def get_integral(func, a, b):\n",
    "    \"\"\"Compute the area under `func` between x=a and x=b.\"\"\"\n",
    "    h = 0.0001               # width of small rectangle\n",
    "    x = a                    # start at x=a\n",
    "    total = 0\n",
    "    while x <= b:            # continue until x=b\n",
    "        total += h*func(x)   # area of rect is base*height\n",
    "        x += h\n",
    "    return total\n",
    "\n",
    "def f(x): return x**2                    # some test function f(x)=x^2\n",
    "computed = get_integral(f, 1, 3)\n",
    "def actualF(x): return 1.0/3.0*x**3\n",
    "actual = actualF(3) - actualF(1)\n",
    "computed, actual    # = 8.6662, 8.6666   # pretty close if you ask me.."
   ]
  },
  {
   "cell_type": "markdown",
   "metadata": {},
   "source": [
    "References<br/>\n",
    "1.3Blue1Brown [Video Link](https://www.youtube.com/playlist?list=PLZHQObOWTQDMsr9K-rj53DwVRMYO3t5Yr)<br/>\n",
    "2.Khan Academy [Video Link](https://www.khanacademy.org/math/calculus-1#cs1-derivatives-definition-and-basic-rules)<br/>\n",
    "3.Calculus [Video In HINDI](https://www.youtube.com/watch?v=2n41IqOMbdc&list=PLax7HQMX26zw6-Vnfe1hxlguec_hQO2De)<br/>\n",
    "4.Deep Learning [Link](http://wiki.fast.ai/index.php/Calculus_for_Deep_Learning)      <br/>\n",
    "5.Math Fun [Link](https://www.mathsisfun.com/calculus/derivatives-rules.html)"
   ]
  }
 ],
 "metadata": {
  "kernelspec": {
   "display_name": "Python 3",
   "language": "python",
   "name": "python3"
  },
  "language_info": {
   "codemirror_mode": {
    "name": "ipython",
    "version": 3
   },
   "file_extension": ".py",
   "mimetype": "text/x-python",
   "name": "python",
   "nbconvert_exporter": "python",
   "pygments_lexer": "ipython3",
   "version": "3.6.4"
  }
 },
 "nbformat": 4,
 "nbformat_minor": 2
}
